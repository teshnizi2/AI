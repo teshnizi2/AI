{
  "cells": [
    {
      "attachments": {},
      "cell_type": "markdown",
      "metadata": {
        "id": "vrUo6bi-_ZX4"
      },
      "source": [
        "<img src='http://www-scf.usc.edu/~ghasemig/images/sharif.png' alt=\"SUT logo\" width=300 height=300 align=left class=\"saturate\" >\n",
        "\n",
        "<br>\n",
        "<font>\n",
        "<div dir=ltr align=center>\n",
        "<font color=0F5298 size=7>\n",
        "    Artificial Intelligence <br>\n",
        "<font color=2565AE size=5>\n",
        "    Computer Engineering Department <br>\n",
        "    Spring 2023<br>\n",
        "<font color=3C99D size=5>\n",
        "    Practical Assignment 2 - CSP <br>\n",
        "<font color=696880 size=4>\n",
        "    Yalda Shabanzadeh, Ali Salesi\n",
        "\n",
        "____"
      ]
    },
    {
      "attachments": {},
      "cell_type": "markdown",
      "metadata": {
        "id": "mu79vDLI_k7L"
      },
      "source": [
        "# Personal Data"
      ]
    },
    {
      "cell_type": "code",
      "execution_count": 162,
      "metadata": {
        "id": "DSNViWnH_XIG"
      },
      "outputs": [],
      "source": [
        "# Set your student number\n",
        "student_number = '98170646'\n",
        "name = 'Mohammadreza'\n",
        "last_name = 'Ahmadi Teshnizi'"
      ]
    },
    {
      "attachments": {},
      "cell_type": "markdown",
      "metadata": {
        "id": "aDsTP-H5_pgG"
      },
      "source": [
        "# Rules\n",
        "- Make sure that all of your cells can be run perfectly. "
      ]
    },
    {
      "attachments": {},
      "cell_type": "markdown",
      "metadata": {
        "id": "gvccZ5rb_pcZ"
      },
      "source": [
        "# Q1: Cryptarithmetic Puzzle (100 Points)"
      ]
    },
    {
      "attachments": {},
      "cell_type": "markdown",
      "metadata": {
        "id": "A41VTSjN_9Zo"
      },
      "source": [
        "<font size=4>\n",
        "Author: Yalda Shabanzadeh, Ali Salesi\n",
        "<br/>\n",
        "<font color=red>\n",
        "Please run all the cells.\n",
        "</font>\n",
        "</font>\n",
        "<br/>\n",
        "</div>"
      ]
    },
    {
      "attachments": {},
      "cell_type": "markdown",
      "metadata": {
        "id": "zpYUslP2AMs3"
      },
      "source": [
        "## Problem Definition\n",
        "\n",
        "The Cryptarithmetic Puzzle is a puzzle where the digits of some numbers are replaced with letters to make a mathematical equation. Each letter represents a unique digit from 0 to 9 (in case of base 10). The puzzle has the following constraints:\n",
        "\n",
        "- Each letter can be replaced by a digit from 0 to 9 (in case of base 10), but no digit can be used twice.\n",
        "- Each letter must be replaced by the same digit throughout the puzzle.\n",
        "- The leftmost digit of each number cannot be zero.\n",
        "\n",
        "### Example\n",
        "Here's an example puzzle:\n",
        "\n",
        "```\n",
        "  two\n",
        "+ two\n",
        "------\n",
        " four\n",
        "```\n",
        "\n",
        "In this puzzle, we need to replace each letter with a digit from 0 to 9 (in case of base 10) to make the equation true."
      ]
    },
    {
      "attachments": {},
      "cell_type": "markdown",
      "metadata": {
        "id": "SjwFN8MOCrjg"
      },
      "source": [
        "## Note\n",
        "- You can use any arbitrary CSP algorithm to solve this question.\n",
        "- Allowed algorithms:\n",
        "BackTracking, AC3, AC3-LCV, AC3-MRV, AC3-LCV-MRV"
      ]
    },
    {
      "attachments": {},
      "cell_type": "markdown",
      "metadata": {
        "id": "ALmhQacCGYDb"
      },
      "source": [
        "> Explain how you consider this problem as a CSP (5 points)\n",
        "\n",
        "\n",
        "<font color='cyan'>\n",
        "In this problem, we are given a set of variables: T, W, O, F, U, and R. These variables are considered basic, and each one cannot be assigned the same digit as another variable. The domains for these variables are defined as the set of integers from 0 to 9.\n",
        "Additionally, there are auxiliary variables X1 and X2, which represent carry values and can take on either 0 or 1. The goal is to find an assignment of values to the variables that satisfies certain arithmetic constraints.\n",
        "The first constraint: the sum of two O variables should be equal to the sum of R and 10 times X1, taking into account any carry values.\n",
        "The second constraint: sum of two W variables and the carry value X1 should be equal to the sum of U and 10 times X2.\n",
        "Finally, the third constraint: sum of two T variables and the carry value X2 should be equal to the sum of O and 10 times F.\n",
        "To illustrate these constraints and their relationships, a constraint graph can be created. In this graph, each variable is represented as a node, and the constraints are represented as edges connecting the nodes. The goal is to connect all variables in one equation using a common node.\n",
        "Considering each letter as a variable, we can model the problem using (CSP) techniques. Multiple constraints are assigned to each variable, including a unary constraint that specifies the variable cannot be assigned zero as its first letter. There is also a multiary constraint that ensures the variables in the same column sum up to match the expected result.\n",
        "</font>"
      ]
    },
    {
      "attachments": {},
      "cell_type": "markdown",
      "metadata": {
        "id": "HQ69RWbiNU2M"
      },
      "source": [
        "## Input\n",
        "  - The first line is $N$ ,base of the sum operation. $2 \\le N \\le 36$. implementing CSP for $N$ other than 10 is optional and test cases with $N$ more than 10 has bonus score since it has a bigger search dimension so AC3, MRV and LCV is suggested.\n",
        "  - In the following lines until the last, operands for the sum operation is given.\n",
        "  - In the last line, $result$, the sum of strings is given.\n",
        "  - **Note**: all the operands and the result are in lowercase.\n",
        " \n",
        "$$1 \\le N \\le 50$$\n",
        "\n",
        "### Sample Input\n",
        "This sample describes the previous example.\n",
        "```\n",
        "10\n",
        "two\n",
        "two\n",
        "four\n",
        "```"
      ]
    },
    {
      "attachments": {},
      "cell_type": "markdown",
      "metadata": {
        "id": "XOwvqcMtNU2N"
      },
      "source": [
        "## Output\n",
        "for each given charachter as input, print it's corresponding number:\n",
        "  - **Note**: order is not important. there are multiple solutions for this problem. if all the constraints are satisfied, you can return any solution.\n",
        "\n",
        "### Sample Output\n",
        "The solution to the example above is:\n",
        "```\n",
        "f 1\n",
        "o 4\n",
        "r 8\n",
        "t 7\n",
        "u 6\n",
        "w 3\n",
        "```"
      ]
    },
    {
      "attachments": {},
      "cell_type": "markdown",
      "metadata": {
        "id": "SSHhI4xLVvMu"
      },
      "source": [
        "## Your code\n",
        "**Note:** It's OK to change the signature for the given functions and the given structure is just a suggestion to help you with the implementation. If you tried to use another structure, the total score of that part won't be changed."
      ]
    },
    {
      "attachments": {},
      "cell_type": "markdown",
      "metadata": {
        "id": "WQtGcfUxP1UJ"
      },
      "source": [
        "### Define Constraint (20 points)\n",
        "\n",
        "In this part, write the satisfaction part of the constraint of this problem.\n",
        "You can add any argument you want to `__init__` function.\n",
        "\n",
        "\n",
        "- Check if all letters have a different value. (Unique Constraint)\n",
        "- Check if the first letter of each word is not 0. (Not Zero Constraint)\n",
        "- Check if the sum of the operands with assigned values is equal to the result. (Sum Constraint)\n",
        "    - **Note**: if there are unassigned values for variables, you can ignore them and return true. for large inputs, you can use AC3 or MRV, LCV to reduce the search space with partial assignment."
      ]
    },
    {
      "cell_type": "code",
      "execution_count": 163,
      "metadata": {},
      "outputs": [],
      "source": [
        "import numpy as np\n",
        "from typing import Dict, List"
      ]
    },
    {
      "cell_type": "code",
      "execution_count": 164,
      "metadata": {
        "id": "KF0ZneijGU0F"
      },
      "outputs": [],
      "source": [
        "from typing import Dict, List\n",
        "\n",
        "class Constraint:\n",
        "    \"\"\"\n",
        "    Base class for all constraints.\n",
        "    \"\"\"\n",
        "\n",
        "    def __init__(self, variable: str) -> None:\n",
        "        \"\"\"\n",
        "        Initializes the constraint.\n",
        "\n",
        "        Args:\n",
        "            variable: name of the variable\n",
        "        \"\"\"\n",
        "        self.variable = variable\n",
        "\n",
        "    def satisfied(self, assignment: Dict[str, int]) -> bool:\n",
        "        \"\"\"\n",
        "        Checks if the constraint is satisfied.\n",
        "\n",
        "        Args:\n",
        "            assignment: Dictionary of the assignment of the variables to the values\n",
        "\n",
        "        Returns:\n",
        "            False if the constraint is not satisfied, True otherwise (including if the variable is not assigned)\n",
        "        \"\"\"\n",
        "        return True\n",
        "\n",
        "\n",
        "class NotZeroConstraint(Constraint):\n",
        "    \"\"\"\"\n",
        "    Constraint that checks if the variable is not zero.\n",
        "    \"\"\"\n",
        "    def satisfied(self, assignment: Dict[str, int]) -> bool:\n",
        "        if self.variable not in assignment:\n",
        "            return True\n",
        "        return assignment[self.variable] != 0\n",
        "\n",
        "\n",
        "class UniqueConstraint(Constraint):\n",
        "    \"\"\"\n",
        "    Constraint that checks if all the variables have unique values.\n",
        "    \"\"\"\n",
        "    def __init__(self) -> None:\n",
        "        pass\n",
        "\n",
        "    def satisfied(self, assignment: Dict[str, int]) -> bool:\n",
        "        return len(assignment.keys()) == len(set(assignment.values()))\n",
        "\n",
        "\n",
        "class SumConstraint(Constraint):\n",
        "    \"\"\"\n",
        "    Constraint that checks if the sum of the operands is equal to the result.\n",
        "    \"\"\"\n",
        "\n",
        "    def __init__(self, operands: List[str], result: str, base: int = 10, allow_carry: bool = False) -> None:\n",
        "        \"\"\"\n",
        "        Initializes the constraint.\n",
        "\n",
        "        Args:\n",
        "            operands: List of the operands\n",
        "            result: result of the sum\n",
        "            base: base of the numbers\n",
        "            allow_carry: if true, the variables in the result are checked from right to left so the sum of the operands can have a carry,\n",
        "                         it is useful for partial sums of columns in AC3 or backtracking. Implementation of this part is not required.\n",
        "        \"\"\"\n",
        "        self.operands = operands\n",
        "        self.result = result\n",
        "        self.base = base\n",
        "        self.allow_carry = allow_carry\n",
        "        self.word_length = len(operands[0])\n",
        "\n",
        "    def column_sum(self, assignment: Dict[str, int], column_from_right: int):\n",
        "        total = 0\n",
        "        for word in self.operands:\n",
        "            letter = word[-column_from_right]\n",
        "            total += assignment[letter]\n",
        "        return total\n",
        "\n",
        "    def is_column_assigned(self, assignment: Dict[str, int], column_from_right: int):\n",
        "        for word in self.operands:\n",
        "            letter = word[-column_from_right]\n",
        "            if letter not in assignment:\n",
        "                return False\n",
        "        return self.result[-column_from_right] in assignment\n",
        "\n",
        "    def remaining_result(self, assignment: Dict[str, int]):\n",
        "        result = 0\n",
        "        base = 1\n",
        "        remaining_part = self.result[0:-self.word_length]\n",
        "        corresponding_value = [assignment[x] for x in remaining_part]\n",
        "        for i in corresponding_value[::-1]:\n",
        "            result += i * base\n",
        "            base *= self.base\n",
        "        return result\n",
        "\n",
        "    def satisfied(self, assignment: Dict[str, int]) -> bool:\n",
        "        carry = 0\n",
        "        for i in range(1, self.word_length + 1):\n",
        "            if not self.is_column_assigned(assignment, i):\n",
        "                return True\n",
        "            \n",
        "            result = assignment[self.result[-i]]\n",
        "            total = self.column_sum(assignment, i)\n",
        "            \n",
        "            if (total + carry) % self.base != result:\n",
        "                return False\n",
        "            \n",
        "            carry = (total + carry - result) // self.base\n",
        "        \n",
        "        return carry == self.remaining_result(assignment)\n"
      ]
    },
    {
      "attachments": {},
      "cell_type": "markdown",
      "metadata": {
        "id": "wH4wlG0NS62E"
      },
      "source": [
        "### Define a CSP class (50 points)\n",
        "\n",
        "You can add functions you'll need to this class."
      ]
    },
    {
      "cell_type": "code",
      "execution_count": 165,
      "metadata": {
        "id": "8V_OGeSoTMi0"
      },
      "outputs": [],
      "source": [
        "from typing import Dict, List\n",
        "\n",
        "class CSP:\n",
        "    \"\"\"\n",
        "    CSP class that contains the variables, constraints, and base of the problem.\n",
        "    \"\"\"\n",
        "\n",
        "    def __init__(self, variables: List[str], constraints: List[Constraint], base: int = 10) -> None:\n",
        "        self.variables = variables\n",
        "        self.constraints = constraints\n",
        "        self.base = base\n",
        "        self.domain = {v: [i for i in range(base)] for v in variables}\n",
        "\n",
        "    def consistent(self, assignment: Dict[str, int]) -> bool:\n",
        "        \"\"\"\n",
        "        Checks if the assignment is consistent with the constraints.\n",
        "\n",
        "        Args:\n",
        "            assignment: Dictionary of the assignment of the variables to the values.\n",
        "\n",
        "        Returns:\n",
        "            False if the assignment is not consistent, True otherwise\n",
        "        \"\"\"\n",
        "        for constraint in self.constraints:\n",
        "            if not constraint.satisfied(assignment):\n",
        "                return False\n",
        "        return True\n",
        "\n",
        "    def choose_unassigned_variable(self, assignment: Dict[str, int]):\n",
        "        return self.get_unassigned_variables(assignment).pop()\n",
        "\n",
        "    def get_MRV(self, assignment: Dict[str, int]):\n",
        "        all_unassigned = self.get_unassigned_variables(assignment)\n",
        "        all_unassigned.sort(key=lambda x: len(self.domain[x]), reverse=True)\n",
        "        return all_unassigned.pop()\n",
        "\n",
        "    def get_unassigned_variables(self, assignment: Dict[str, int]):\n",
        "        unassigned = set(self.variables) - set(assignment.keys())\n",
        "        return list(unassigned)\n",
        "\n",
        "    def update_domain(self, variable, value, reduce=True):\n",
        "        for v in self.variables:\n",
        "            if not v == variable:\n",
        "                if reduce and value in self.domain[v]:\n",
        "                    self.domain[v].remove(value)\n",
        "                elif not value in self.domain[v]:\n",
        "                    self.domain[v].append(value)\n",
        "\n",
        "    def is_any_domain_empty(self):\n",
        "        for d in self.domain.values():\n",
        "            if len(d) == 0:\n",
        "                return True\n",
        "        return False\n",
        "\n",
        "    def backtracking_search(self, assignment: Dict[str, int]):\n",
        "        \"\"\"\n",
        "        Backtracking search algorithm.\n",
        "\n",
        "        Args:\n",
        "            assignment: Dictionary of the assignment of the variables to the values. assignment is modified in place.\n",
        "\n",
        "        Returns:\n",
        "            True if a solution is found, False otherwise\n",
        "        \"\"\"\n",
        "        if len(assignment.keys()) == len(self.variables):\n",
        "            return True\n",
        "        v = self.get_MRV(assignment)\n",
        "        for i in range(self.base):\n",
        "            assignment[v] = i\n",
        "            self.update_domain(v, i, True)\n",
        "            if not self.is_any_domain_empty():\n",
        "                if self.consistent(assignment):\n",
        "                    result = self.backtracking_search(assignment)\n",
        "                    if result:\n",
        "                        return result\n",
        "            self.update_domain(v, i, False)\n",
        "            assignment.pop(v)\n",
        "        return False"
      ]
    },
    {
      "attachments": {},
      "cell_type": "markdown",
      "metadata": {
        "id": "aZfWJAEdX48l"
      },
      "source": [
        "### Build CSP and solve it! (20 points)\n",
        "\n",
        "complete these functions for testing."
      ]
    },
    {
      "cell_type": "code",
      "execution_count": 166,
      "metadata": {
        "id": "E9aF198i_614"
      },
      "outputs": [],
      "source": [
        "def get_problem(operands: List[str], result: str, base: int = 10) -> CSP:\n",
        "    \"\"\"\n",
        "    Creates a CSP problem from the operands and the result. The variables are the unique characters in the operands and the result.\n",
        "    The constraints should be defined using NotZeroConstraint for leftmost digits, a UniqueConstraint for all variables, and a SumConstraint for the problem.\n",
        "    Multiple partial SumConstraint can be used for bigger search spaces and base > 10.\n",
        "\n",
        "    Args:\n",
        "        operands: List of the operands\n",
        "        result: result of the sum\n",
        "        base: base of the numbers\n",
        "\n",
        "    Returns:\n",
        "        CSP problem\n",
        "    \"\"\"\n",
        "    all_strings = operands + [result]\n",
        "    variables = list(set(\"\".join(all_strings)))\n",
        "    leftmost_characters = [w[0] for w in all_strings]\n",
        "    non_zero_constraints = [NotZeroConstraint(v) for v in set(leftmost_characters)]\n",
        "    constraints = non_zero_constraints + [UniqueConstraint(), SumConstraint(operands, result, base, True)]\n",
        "    return CSP(variables, constraints, base)\n"
      ]
    },
    {
      "cell_type": "code",
      "execution_count": 167,
      "metadata": {
        "id": "TFSRLlaBNU2V"
      },
      "outputs": [],
      "source": [
        "def backtracking_search(csp: CSP) -> Dict[str, int]:\n",
        "    \"\"\"\n",
        "    Backtracking search algorithm.\n",
        "\n",
        "    Args:\n",
        "        csp: CSP problem\n",
        "\n",
        "    Returns:\n",
        "        Dictionary of the assignment of the variables to the values if a solution is found, None otherwise\n",
        "    \"\"\"\n",
        "    assignment = {}\n",
        "    is_solution_found = csp.backtracking_search(assignment)\n",
        "    if is_solution_found:\n",
        "        return assignment\n",
        "    return None\n"
      ]
    },
    {
      "attachments": {},
      "cell_type": "markdown",
      "metadata": {
        "id": "69hRH8xlYvK9"
      },
      "source": [
        "## Test\n",
        "\n",
        "**Do not change the following cell.**\n",
        "\n",
        "**Note**: 5 tests will be added after deadline. (5 points)."
      ]
    },
    {
      "cell_type": "code",
      "execution_count": 168,
      "metadata": {
        "colab": {
          "base_uri": "https://localhost:8080/",
          "height": 390
        },
        "id": "0tOYbhBJZXeV",
        "outputId": "90e92d7f-b11a-4714-9d5e-08fe5a62add5",
        "scrolled": true
      },
      "outputs": [
        {
          "name": "stdout",
          "output_type": "stream",
          "text": [
            "test q2_in1.txt passed. time elapsed=0.00000s\n",
            "solution: \n",
            "X 1\n",
            "Y 8\n",
            "Z 2\n",
            "test q2_in2.txt passed. time elapsed=0.00803s\n",
            "solution: \n",
            "A 1\n",
            "B 9\n",
            "C 8\n",
            "D 2\n",
            "E 0\n",
            "test q2_in3.txt passed. time elapsed=0.00000s\n",
            "solution: \n",
            "A 1\n",
            "B 9\n",
            "C 8\n",
            "test q2_in4.txt passed. time elapsed=0.19200s\n",
            "solution: \n",
            "A 1\n",
            "F 4\n",
            "L 0\n",
            "W 2\n",
            "Y 5\n",
            "test q2_in5.txt passed. time elapsed=0.00000s\n",
            "solution: \n",
            "G 8\n",
            "O 1\n",
            "T 2\n",
            "U 0\n",
            "Score = 100.0%\n"
          ]
        }
      ],
      "source": [
        "import helper.test_q2 as q2\n",
        "import time\n",
        "\n",
        "TIME_LIMIT = 3\n",
        "\n",
        "tests = q2.get_all_tests(prefix='q2')\n",
        "tests_passed = 0\n",
        "\n",
        "for test in tests:\n",
        "    base, operands, result = q2.scan_test_input(test)\n",
        "    csp = get_problem(operands, result, base)\n",
        "    start_time = time.time()\n",
        "    sol = backtracking_search(csp)\n",
        "    if sol is None:\n",
        "        print(f'test {test} failed. time elapsed={time.time() - start_time:.5f}s')\n",
        "        continue\n",
        "    total_time = time.time() - start_time\n",
        "    if q2.is_result_valid(sol, operands, result, base) and total_time < TIME_LIMIT:\n",
        "        tests_passed += 1\n",
        "        print(f'test {test} passed. time elapsed={total_time:.5f}s')\n",
        "        print('solution: ')\n",
        "        print('\\n'.join([str(x).upper() + \" \" + str(y)\n",
        "              for x, y in sorted(sol.items())]))\n",
        "    else:\n",
        "        print(f':: test {test} failed. time elapsed={total_time:.5f}s')\n",
        "print(f'Score = {tests_passed / len(tests) * 100}%')\n"
      ]
    }
  ],
  "metadata": {
    "colab": {
      "provenance": []
    },
    "kernelspec": {
      "display_name": "Python 3 (ipykernel)",
      "language": "python",
      "name": "python3"
    },
    "language_info": {
      "codemirror_mode": {
        "name": "ipython",
        "version": 3
      },
      "file_extension": ".py",
      "mimetype": "text/x-python",
      "name": "python",
      "nbconvert_exporter": "python",
      "pygments_lexer": "ipython3",
      "version": "3.9.5"
    }
  },
  "nbformat": 4,
  "nbformat_minor": 0
}
