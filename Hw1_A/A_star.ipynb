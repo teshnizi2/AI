{
 "cells": [
  {
   "attachments": {},
   "cell_type": "markdown",
   "metadata": {},
   "source": [
    "<img src='http://www-scf.usc.edu/~ghasemig/images/sharif.png' alt=\"SUT logo\" width=300 height=300 align=left class=\"saturate\" >\n",
    "\n",
    "<br>\n",
    "<font>\n",
    "<div dir=ltr align=center>\n",
    "<font color=0F5298 size=7>\n",
    "    Artificial Intelligence <br>\n",
    "<font color=2565AE size=5>\n",
    "    Computer Engineering Department <br>\n",
    "    Spring 2023<br>\n",
    "<font color=3C99D size=5>\n",
    "    Practical Assignment 1 - Search <br>\n",
    "<font color=696880 size=4>\n",
    "    Mohammad Mahdi Abootorabi and Roozbeh Pirayadi \n",
    "\n",
    "____"
   ]
  },
  {
   "cell_type": "markdown",
   "metadata": {},
   "source": [
    "# Personal Data"
   ]
  },
  {
   "cell_type": "code",
   "execution_count": 155,
   "metadata": {},
   "outputs": [],
   "source": [
    "# Set your student number\n",
    "student_number = '98170646'\n",
    "Name = 'Mohammad Reza'\n",
    "Last_Name = 'Ahmadi Teshnizi'"
   ]
  },
  {
   "attachments": {},
   "cell_type": "markdown",
   "metadata": {},
   "source": [
    "# Rules\n",
    "- Make sure that all of your cells can be run perfectly. "
   ]
  },
  {
   "attachments": {},
   "cell_type": "markdown",
   "metadata": {},
   "source": [
    "# Q1: Elevator Ride (100 Points)"
   ]
  },
  {
   "attachments": {},
   "cell_type": "markdown",
   "metadata": {},
   "source": [
    "<font size=4>\n",
    "Author: Roozbeh Pirayadi\n",
    "\t\t\t<br/>\n",
    "                <font color=red>\n",
    "Please run all the cells.\n",
    "     </font>\n",
    "</font>\n",
    "                <br/>\n",
    "    </div>"
   ]
  },
  {
   "attachments": {},
   "cell_type": "markdown",
   "metadata": {},
   "source": [
    "## Problem Definition"
   ]
  },
  {
   "attachments": {},
   "cell_type": "markdown",
   "metadata": {},
   "source": [
    "Computer Engineering department has two floors. There are N students and M professors on the first floor, all of whom, want to go from the first floor to the second floor. The only way to move from the first floor to the second one is by using an elevator. \n",
    "\n",
    "At most two people can fit in the elevator at the same time. Also, the elevator cannot operate by itself. This means that when the elevator moves up or down, there is either one person in the elevator or there are two people in it. \n",
    "\n",
    "But there is a problem. \n",
    "If in any of the mentioned floors, there are more students than proffesors, students will start asking questions from the professors. Professors are not willing to answer any question. So none of them wants to be in a floor where the number of students is more than the number of professors. Note that when there is no professor in the floor the number of students is not important. But when there is, the number of students must be less than or equal to the number of professors.\n",
    "\n",
    "Our goal is to find a schedule for the people to get on the elevator so that this constraint is satisfied.\n",
    "\n",
    "Below you can see a solution for 4 students and 4 professors"
   ]
  },
  {
   "attachments": {},
   "cell_type": "markdown",
   "metadata": {},
   "source": [
    "![SegmentLocal](images/result_of_5_3.gif \"segment\")"
   ]
  },
  {
   "attachments": {},
   "cell_type": "markdown",
   "metadata": {},
   "source": [
    "Every state in the discussed problem could be represented as a 5-tuple (s1, p1, s2, p2, e). Where s1 is the number of students in the first floor, p1 is the number of professors in the first floor, s2 is the number of students in the second floor and p2 is the number of professors in the second floor. Finally e shows which floor the elevator is.\n",
    "\n",
    "Our goal is to find a feasible solution. we will do this by starting from the initial state and searching for the final state. Note that there may be more than one way to the final state so the solution is not unique."
   ]
  },
  {
   "attachments": {},
   "cell_type": "markdown",
   "metadata": {},
   "source": [
    "## Solution"
   ]
  },
  {
   "attachments": {},
   "cell_type": "markdown",
   "metadata": {},
   "source": [
    "### Graph"
   ]
  },
  {
   "attachments": {},
   "cell_type": "markdown",
   "metadata": {},
   "source": [
    "Below is an implementation of a directed weighted graph. You don't need to change anything in this cell. Just take a look at the code, so you could use it."
   ]
  },
  {
   "cell_type": "code",
   "execution_count": 156,
   "metadata": {},
   "outputs": [],
   "source": [
    "###########################################\n",
    "###### no need to change any thing ########\n",
    "###########################################\n",
    "class graph:\n",
    "    def __init__(self):\n",
    "        self.graph = {}\n",
    "        self.visited = {}\n",
    "\n",
    "    # add a new edge between v1 and v2 with weight w or update the weight if edge already exists\n",
    "    def append(self, v1, v2, w):\n",
    "        if v1 not in self.graph.keys():\n",
    "            self.graph[v1] = {}\n",
    "            self.visited[v1] = 0\n",
    "        if v2 not in self.graph.keys():\n",
    "            self.graph[v2] = {}\n",
    "            self.visited[v2] = 0\n",
    "        self.graph[v1][v2] = w\n",
    "\n",
    "    # return adjacency list (used for debugging)\n",
    "    def reveal(self):\n",
    "        return self.graph\n",
    "\n",
    "    # return all vertices in the graph\n",
    "    def vertex(self):\n",
    "        return list(self.graph.keys())\n",
    "\n",
    "    # return all neighbours of a vertix as a list\n",
    "\n",
    "    def neighbour(self, v):\n",
    "        return list(self.graph[v].keys())\n",
    "\n",
    "    # return the weight of a edge\n",
    "\n",
    "    def weight(self, v1, v2):\n",
    "        return (self.graph[v1][v2])\n",
    "\n",
    "    # return the number of vertices\n",
    "\n",
    "    def order(self):\n",
    "        return len(self.graph)\n",
    "\n",
    "    # visit a particular vertex\n",
    "    def visit(self, v):\n",
    "        self.visited[v] = 1\n",
    "\n",
    "    # return the visit status of a particular vertex\n",
    "    def is_visited(self, vertexid):\n",
    "        return self.visited[vertexid]\n",
    "\n",
    "    # return which vertices have been visited\n",
    "    def get_visited(self):\n",
    "        return self.visited\n",
    "\n",
    "    # return degree of a particular vertex\n",
    "    def degree(self, vertexid):\n",
    "        return len(self.graph[vertexid])\n",
    "\n",
    "    # unvisit the whole graph        if whole is True\n",
    "    # unvisit a particular vertex    if whole is False\n",
    "    def clear(self, v=None, whole=False):\n",
    "        if whole:\n",
    "            self.visited = dict(zip(self.graph.keys(), [0 for i in range(len(self.graph))]))\n",
    "        elif v is not None:\n",
    "            self.visited[v] = 0\n",
    "        else:\n",
    "            assert False, \"arguments must satisfy whole=True or v not None\"\n"
   ]
  },
  {
   "attachments": {},
   "cell_type": "markdown",
   "metadata": {},
   "source": [
    "#### Building the graph of states"
   ]
  },
  {
   "attachments": {},
   "cell_type": "markdown",
   "metadata": {},
   "source": [
    "Let's start by a little example and consider a situation where we there are 3 students and 3 professors. Note that your code should be written for the general case using the variables N and M."
   ]
  },
  {
   "cell_type": "code",
   "execution_count": 157,
   "metadata": {},
   "outputs": [],
   "source": [
    "# Number of Students\n",
    "N = 3\n",
    "# Number of Professors\n",
    "M = 3"
   ]
  },
  {
   "attachments": {},
   "cell_type": "markdown",
   "metadata": {},
   "source": [
    "First let's implement a function that receives a 4-tuple (s1, p1, s2, p2) as an input and checks whether this state is a valid one or not. Note that e (position of the elevator) cannot affect the validity of a state so it is not provided as an input."
   ]
  },
  {
   "cell_type": "code",
   "execution_count": 158,
   "metadata": {},
   "outputs": [],
   "source": [
    "# validate a state (s1, p1, s2, p2)\n",
    "# if the constraints are satisfied return true, else return false\n",
    "def validate(input):\n",
    "\n",
    "    s1, p1, s2, p2 = input\n",
    "\n",
    "    ################################################\n",
    "    ###### complete this function (10 Points) ######\n",
    "    ################################################\n",
    "\n",
    "#------------------------------------------------------------\n",
    "    if (s1 >= 0) and (p1 >= 0) and (s2 >= 0) and (p2 >= 0) :\n",
    "        if (p1 == 0 or s1 <= p1) and (p2 == 0 or s2 <= p2) :\n",
    "            return True\n",
    "    return False\n"
   ]
  },
  {
   "attachments": {},
   "cell_type": "markdown",
   "metadata": {},
   "source": [
    "The below function must build the whole graph. Each scenario is a vertex and v1 is connected to v2 with weight 1 if scenario in v1 could be changed to the scenario in v2 by only one traversal of the elevator.\n",
    "\n",
    "Hint: you can iterate over different values of s1, p1 and e and determine s2 and p2 using N and M. Then you can check all different actions and use the validate function to determine whether taking this action is possible or not."
   ]
  },
  {
   "cell_type": "code",
   "execution_count": 159,
   "metadata": {},
   "outputs": [],
   "source": [
    "# builds the complete graph\n",
    "def build_graph(N, M):\n",
    "    G = graph()\n",
    "    #############################################\n",
    "    ###  complete this function (25 Points)   ###\n",
    "    #############################################\n",
    "    def new_node(alpha, beta):\n",
    "        if validate(beta[0:4]):\n",
    "            G.append(alpha, beta, 1)\n",
    "\n",
    "    for s1 in range(N + 1):\n",
    "        for p1 in range(M + 1):\n",
    "            s2 = N - s1\n",
    "            p2 = M - p1\n",
    "            if validate ((s1, p1, s2, p2)):\n",
    "                new_node((s1, p1, s2, p2, 1), (s1-1, p1, s2+1, p2, 2))\n",
    "                new_node((s1, p1, s2, p2, 1), (s1-2, p1, s2+2, p2, 2))\n",
    "                new_node((s1, p1, s2, p2, 1), (s1, p1-1, s2, p2+1, 2))\n",
    "                new_node((s1, p1, s2, p2, 1), (s1, p1-2, s2, p2+2, 2))\n",
    "                new_node((s1, p1, s2, p2, 1), (s1-1, p1-1, s2+1, p2+1, 2))\n",
    "                new_node((s1, p1, s2, p2, 2), (s1+1, p1, s2-1, p2, 1))\n",
    "                new_node((s1, p1, s2, p2, 2), (s1+2, p1, s2-2, p2, 1))\n",
    "                new_node((s1, p1, s2, p2, 2), (s1, p1+1, s2, p2-1, 1))\n",
    "                new_node((s1, p1, s2, p2, 2), (s1, p1+2, s2, p2-2, 1))\n",
    "                new_node((s1, p1, s2, p2, 2), (s1+1, p1+1, s2-1, p2-1, 1))\n",
    "    return G\n"
   ]
  },
  {
   "cell_type": "code",
   "execution_count": 160,
   "metadata": {},
   "outputs": [],
   "source": [
    "G = build_graph(N, M)"
   ]
  },
  {
   "attachments": {},
   "cell_type": "markdown",
   "metadata": {},
   "source": [
    "### Depth First Search"
   ]
  },
  {
   "attachments": {},
   "cell_type": "markdown",
   "metadata": {},
   "source": [
    "The first algorithm we use to solve the problem is Depth First Search. The function below  executes DFS on G from start until it reaches end. Note that if end is not reachable from start this function returns false and otherwise it returns the found path as a list of states. DFS code is completely and it is used as a baseline to evaulute your A* implementation in the next part."
   ]
  },
  {
   "cell_type": "code",
   "execution_count": 161,
   "metadata": {},
   "outputs": [],
   "source": [
    "###########################################\n",
    "###### no need to change any thing ########\n",
    "###########################################\n",
    "# Depth First Search to find the path from start to end\n",
    "def run_dfs(G, start, end):\n",
    "    queue = []\n",
    "    queue.append(start)\n",
    "\n",
    "    # pred keeps track of how we got to the current vertex\n",
    "    pred = {}\n",
    "\n",
    "    while queue:\n",
    "        current = queue.pop(0)\n",
    "        G.visit(current)\n",
    "\n",
    "        smallq = []\n",
    "\n",
    "        # find children and add to the priority\n",
    "        for newpos in G.neighbour(current):\n",
    "            if not G.is_visited(newpos):\n",
    "                # if the child vertex has already been in queue\n",
    "                # move it to the frontline of queue\n",
    "                if newpos in queue:\n",
    "                    queue.remove(newpos)\n",
    "                smallq.append(newpos)\n",
    "                pred[newpos] = current\n",
    "\n",
    "        queue = smallq+queue\n",
    "\n",
    "        # traversal ends when the target is met\n",
    "        if current == end:\n",
    "            break\n",
    "\n",
    "    if current != end:\n",
    "        return False\n",
    "\n",
    "    # create the path by backtracking\n",
    "    # trace the predecessor vertex from end to start\n",
    "    previous = end\n",
    "    path = []\n",
    "    while pred:\n",
    "        path.insert(0, previous)\n",
    "        if previous == start:\n",
    "            break\n",
    "        previous = pred[previous]\n",
    "\n",
    "    return path\n"
   ]
  },
  {
   "cell_type": "code",
   "execution_count": 162,
   "metadata": {},
   "outputs": [],
   "source": [
    "start_vertex = (N, M, 0, 0, 1)\n",
    "end_vertex = (0, 0, N, M, 2)"
   ]
  },
  {
   "cell_type": "code",
   "execution_count": 163,
   "metadata": {},
   "outputs": [
    {
     "name": "stdout",
     "output_type": "stream",
     "text": [
      "length of the path DFS has found: 11\n",
      "number of vertices DFS has traveled: 13\n"
     ]
    }
   ],
   "source": [
    "###########################################\n",
    "###### no need to change any thing ########\n",
    "###########################################\n",
    "def dfs_result(G, start_vertex, end_vertex):\n",
    "\n",
    "    dfs_path = run_dfs(G, start_vertex, end_vertex)\n",
    "\n",
    "    num_of_visited_dfs = 0\n",
    "    num_of_visited_dfs = len([i for i in G.get_visited() if G.get_visited()[i] == 1])\n",
    "\n",
    "    G.clear(whole=True)\n",
    "\n",
    "    if not dfs_path:\n",
    "        print(\"end vertex not reachable\")\n",
    "    else:\n",
    "        print(f'length of the path DFS has found:', len(dfs_path) - 1)\n",
    "\n",
    "    print(f'number of vertices DFS has traveled:', num_of_visited_dfs)\n",
    "\n",
    "\n",
    "dfs_result(G, start_vertex, end_vertex)\n"
   ]
  },
  {
   "attachments": {},
   "cell_type": "markdown",
   "metadata": {},
   "source": [
    "### A* Algorithm"
   ]
  },
  {
   "attachments": {},
   "cell_type": "markdown",
   "metadata": {},
   "source": [
    "Next we use the A* algorithm. To use A* we need to propose a heuristic function. Propose a non-trivial heuristic function and argue that it is admissible. (10 Points)\n",
    "\n"
   ]
  },
  {
   "attachments": {},
   "cell_type": "markdown",
   "metadata": {},
   "source": [
    "<font color='cyan'>\n",
    "\n",
    "$$\n",
    " h((s1, p1, s2, p2, e)) = (s1 + p1 + (e - 2))\n",
    "$$\n",
    "\n",
    "دلیل وجود اس۱ و پی۱ این است که با کم شدن تعداد افراد طبقه اول به هدف مسئله میرسیم و دلیل وجود ای منهای ۲ این است که اگر آسانسور در طبقه اول باشه به دلیل اینکه می‌تواند افرادی را به طبقه بالا ببرد به هدف نزدیک تر می‌شویم و در آخر حالتی که کسی در آسانسور نباشد و آسانسور آخرین انتقال خود را به طبقه ۲ انجام داده باشد چون در انتها نیز در طبقه دوم باقی می‌ماند پس تابع هیوریستیک ما ۰ می‌شود \n",
    "\n",
    "</font>\n",
    "\n"
   ]
  },
  {
   "cell_type": "code",
   "execution_count": 164,
   "metadata": {},
   "outputs": [],
   "source": [
    "def heuristic_func(input):\n",
    "    s1, p1, s2, p2, e = input\n",
    "    return s1+p1+e-2\n"
   ]
  },
  {
   "attachments": {},
   "cell_type": "markdown",
   "metadata": {},
   "source": [
    "Like DFS if end is not reachable from start A* must return false and otherwise it must return the found path as a list of states."
   ]
  },
  {
   "cell_type": "code",
   "execution_count": 165,
   "metadata": {},
   "outputs": [],
   "source": [
    "# A* to find the path from start to end\n",
    "def run_a_star(G, start, end):\n",
    "#######################################################\n",
    "######### implement A* algorithm (30 Points) ##########\n",
    "#######################################################\n",
    "\tG.clear(whole=True)\n",
    "\tpred = {}\n",
    "\tcost = {}\n",
    "\tcost[start] = 0\n",
    "\tqueue = []\n",
    "\tqueue.append((heuristic_func(start)+cost[start], start))\n",
    "\n",
    "\twhile queue:\n",
    "\t\tmin,_ = queue[0]\n",
    "\t\tfor i in queue:\n",
    "\t\t\thurco,_ = i\n",
    "\t\t\tif hurco <= min:\n",
    "\t\t\t\tmin = hurco\n",
    "\t\t\t\t_,curr = i\n",
    "\n",
    "\t\tif G.is_visited(curr):\n",
    "\t\t\t\tqueue.remove((heuristic_func(curr)+cost[curr], curr))\n",
    "\t\tG.visit(curr)\n",
    "\t\tfor neib in G.neighbour(curr):\n",
    "\t\t\tif G.is_visited(neib):\n",
    "\t\t\t\tcontinue\n",
    "\t\t\tcost[neib] = cost[curr]+1\n",
    "\t\t\tqueue.append((heuristic_func(neib)+cost[neib], neib))\n",
    "\t\t\tpred[neib] = curr\n",
    "\t\t\t\n",
    "\t\tif curr == end:\n",
    "\t\t\tbreak\n",
    "\tif curr != end:\n",
    "\t\treturn False\n",
    "\tprevious = end\n",
    "\tpath = []\n",
    "\twhile pred:\n",
    "\t\tpath.insert(0, previous)\n",
    "\t\tif previous == start:\n",
    "\t\t\tbreak\n",
    "\t\tprevious = pred[previous]\n",
    "\treturn path\n",
    "\n",
    "\n"
   ]
  },
  {
   "cell_type": "code",
   "execution_count": 166,
   "metadata": {},
   "outputs": [
    {
     "name": "stdout",
     "output_type": "stream",
     "text": [
      "length of the path A* has found: 11\n",
      "number of vertices A* has traveled: 14\n"
     ]
    }
   ],
   "source": [
    "###########################################\n",
    "###### no need to change any thing ########\n",
    "###########################################\n",
    "def a_star_result(G, start_vertex, end_vertex):\n",
    "\n",
    "    a_star_path = run_a_star(G, start_vertex, end_vertex)\n",
    "\n",
    "    num_of_visited_a_star = 0\n",
    "    num_of_visited_a_star = len([i for i in G.get_visited() if G.get_visited()[i] == 1])\n",
    "\n",
    "    G.clear(whole=True)\n",
    "\n",
    "    if not a_star_path:\n",
    "        print(\"end vertex not reachable\")\n",
    "    else:\n",
    "        print(f'length of the path A* has found:', len(a_star_path) - 1)\n",
    "\n",
    "    print(f'number of vertices A* has traveled:', num_of_visited_a_star)\n",
    "\n",
    "\n",
    "a_star_result(G, start_vertex, end_vertex)\n"
   ]
  },
  {
   "attachments": {},
   "cell_type": "markdown",
   "metadata": {},
   "source": [
    "## Visualization"
   ]
  },
  {
   "attachments": {},
   "cell_type": "markdown",
   "metadata": {},
   "source": [
    "The below code creates a gif named \"result.gif\" which shows the result found by A* algorithm."
   ]
  },
  {
   "cell_type": "code",
   "execution_count": 167,
   "metadata": {},
   "outputs": [
    {
     "name": "stderr",
     "output_type": "stream",
     "text": [
      "MovieWriter ffmpeg unavailable; using Pillow instead.\n"
     ]
    },
    {
     "data": {
      "image/png": "[encoded data removed]",
      "text/plain": [
       "<Figure size 900x500 with 1 Axes>"
      ]
     },
     "metadata": {},
     "output_type": "display_data"
    }
   ],
   "source": [
    "import drawer\n",
    "drawer.create_gif(run_a_star(G, start_vertex, end_vertex))\n",
    "G.clear(whole=True)"
   ]
  },
  {
   "attachments": {},
   "cell_type": "markdown",
   "metadata": {},
   "source": [
    "## Results"
   ]
  },
  {
   "attachments": {},
   "cell_type": "markdown",
   "metadata": {},
   "source": [
    "Now results of DFS and A* could be compared. Run the code below and explain the result. (10 Points)"
   ]
  },
  {
   "cell_type": "code",
   "execution_count": 168,
   "metadata": {},
   "outputs": [
    {
     "name": "stdout",
     "output_type": "stream",
     "text": [
      "length of the path DFS has found: 749\n",
      "number of vertices DFS has traveled: 946\n"
     ]
    },
    {
     "ename": "ValueError",
     "evalue": "list.remove(x): x not in list",
     "output_type": "error",
     "traceback": [
      "\u001b[1;31m---------------------------------------------------------------------------\u001b[0m",
      "\u001b[1;31mValueError\u001b[0m                                Traceback (most recent call last)",
      "\u001b[1;32mc:\\Users\\mohammadreza ahmadi\\Desktop\\AI-HW1-98170646\\A_star.ipynb Cell 40\u001b[0m in \u001b[0;36m1\n\u001b[0;32m      <a href='vscode-notebook-cell:/c%3A/Users/mohammadreza%20ahmadi/Desktop/AI-HW1-98170646/A_star.ipynb#X54sZmlsZQ%3D%3D?line=6'>7</a>\u001b[0m G \u001b[39m=\u001b[39m build_graph(N, M)\n\u001b[0;32m      <a href='vscode-notebook-cell:/c%3A/Users/mohammadreza%20ahmadi/Desktop/AI-HW1-98170646/A_star.ipynb#X54sZmlsZQ%3D%3D?line=8'>9</a>\u001b[0m dfs_result(G, start_vertex, end_vertex)\n\u001b[1;32m---> <a href='vscode-notebook-cell:/c%3A/Users/mohammadreza%20ahmadi/Desktop/AI-HW1-98170646/A_star.ipynb#X54sZmlsZQ%3D%3D?line=9'>10</a>\u001b[0m a_star_result(G, start_vertex, end_vertex)\n",
      "\u001b[1;32mc:\\Users\\mohammadreza ahmadi\\Desktop\\AI-HW1-98170646\\A_star.ipynb Cell 40\u001b[0m in \u001b[0;36m6\n\u001b[0;32m      <a href='vscode-notebook-cell:/c%3A/Users/mohammadreza%20ahmadi/Desktop/AI-HW1-98170646/A_star.ipynb#X54sZmlsZQ%3D%3D?line=3'>4</a>\u001b[0m \u001b[39mdef\u001b[39;00m \u001b[39ma_star_result\u001b[39m(G, start_vertex, end_vertex):\n\u001b[1;32m----> <a href='vscode-notebook-cell:/c%3A/Users/mohammadreza%20ahmadi/Desktop/AI-HW1-98170646/A_star.ipynb#X54sZmlsZQ%3D%3D?line=5'>6</a>\u001b[0m     a_star_path \u001b[39m=\u001b[39m run_a_star(G, start_vertex, end_vertex)\n\u001b[0;32m      <a href='vscode-notebook-cell:/c%3A/Users/mohammadreza%20ahmadi/Desktop/AI-HW1-98170646/A_star.ipynb#X54sZmlsZQ%3D%3D?line=7'>8</a>\u001b[0m     num_of_visited_a_star \u001b[39m=\u001b[39m \u001b[39m0\u001b[39m\n\u001b[0;32m      <a href='vscode-notebook-cell:/c%3A/Users/mohammadreza%20ahmadi/Desktop/AI-HW1-98170646/A_star.ipynb#X54sZmlsZQ%3D%3D?line=8'>9</a>\u001b[0m     num_of_visited_a_star \u001b[39m=\u001b[39m \u001b[39mlen\u001b[39m([i \u001b[39mfor\u001b[39;00m i \u001b[39min\u001b[39;00m G\u001b[39m.\u001b[39mget_visited() \u001b[39mif\u001b[39;00m G\u001b[39m.\u001b[39mget_visited()[i] \u001b[39m==\u001b[39m \u001b[39m1\u001b[39m])\n",
      "\u001b[1;32mc:\\Users\\mohammadreza ahmadi\\Desktop\\AI-HW1-98170646\\A_star.ipynb Cell 40\u001b[0m in \u001b[0;36m2\n\u001b[0;32m     <a href='vscode-notebook-cell:/c%3A/Users/mohammadreza%20ahmadi/Desktop/AI-HW1-98170646/A_star.ipynb#X54sZmlsZQ%3D%3D?line=18'>19</a>\u001b[0m \t\t_,curr \u001b[39m=\u001b[39m i\n\u001b[0;32m     <a href='vscode-notebook-cell:/c%3A/Users/mohammadreza%20ahmadi/Desktop/AI-HW1-98170646/A_star.ipynb#X54sZmlsZQ%3D%3D?line=20'>21</a>\u001b[0m \u001b[39mif\u001b[39;00m G\u001b[39m.\u001b[39mis_visited(curr):\n\u001b[1;32m---> <a href='vscode-notebook-cell:/c%3A/Users/mohammadreza%20ahmadi/Desktop/AI-HW1-98170646/A_star.ipynb#X54sZmlsZQ%3D%3D?line=21'>22</a>\u001b[0m \t\tqueue\u001b[39m.\u001b[39;49mremove((heuristic_func(curr)\u001b[39m+\u001b[39;49mcost[curr], curr))\n\u001b[0;32m     <a href='vscode-notebook-cell:/c%3A/Users/mohammadreza%20ahmadi/Desktop/AI-HW1-98170646/A_star.ipynb#X54sZmlsZQ%3D%3D?line=22'>23</a>\u001b[0m G\u001b[39m.\u001b[39mvisit(curr)\n\u001b[0;32m     <a href='vscode-notebook-cell:/c%3A/Users/mohammadreza%20ahmadi/Desktop/AI-HW1-98170646/A_star.ipynb#X54sZmlsZQ%3D%3D?line=23'>24</a>\u001b[0m \u001b[39mfor\u001b[39;00m neib \u001b[39min\u001b[39;00m G\u001b[39m.\u001b[39mneighbour(curr):\n",
      "\u001b[1;31mValueError\u001b[0m: list.remove(x): x not in list"
     ]
    }
   ],
   "source": [
    "N = 100\n",
    "M = 140\n",
    "\n",
    "start_vertex = (N, M, 0, 0, 1)\n",
    "end_vertex = (0, 0, N, M, 2)\n",
    "\n",
    "G = build_graph(N, M)\n",
    "\n",
    "dfs_result(G, start_vertex, end_vertex)\n",
    "a_star_result(G, start_vertex, end_vertex)\n"
   ]
  },
  {
   "attachments": {},
   "cell_type": "markdown",
   "metadata": {},
   "source": [
    "<font color='cyan'>\n",
    "\n",
    "الگوریتم عمق اول جستجوی بیشتری کرده است زیرا به صورت رندوم به دنبال جواب است ولی الگوریتم ای* اینگونه نیست و  به دنبال کوتاهترین مسیر می‌رود و سریعتر به جواب خواهد رسید.\n",
    "\n",
    "</font>"
   ]
  },
  {
   "attachments": {},
   "cell_type": "markdown",
   "metadata": {},
   "source": [
    "Cell below runs some tests on dfs and stores the results in \"student_number.txt\". Then run the cell and upload the result on Quera."
   ]
  },
  {
   "cell_type": "code",
   "execution_count": null,
   "metadata": {},
   "outputs": [
    {
     "ename": "",
     "evalue": "",
     "output_type": "error",
     "traceback": [
      "\u001b[1;31mRunning cells with 'c:\\Users\\mohammadreza ahmadi\\AppData\\Local\\Microsoft\\WindowsApps\\python3.11.exe' requires the ipykernel package.\n",
      "\u001b[1;31mRun the following command to install 'ipykernel' into the Python environment. \n",
      "\u001b[1;31mCommand: '\"c:/Users/mohammadreza ahmadi/AppData/Local/Microsoft/WindowsApps/python3.11.exe\" -m pip install ipykernel -U --user --force-reinstall'"
     ]
    }
   ],
   "source": [
    "tests = [(100, 140), (200, 260), (600, 610), (800, 1000)]\n",
    "\n",
    "f = open(student_number + \".txt\", \"w\")\n",
    "\n",
    "\n",
    "def run_tests():\n",
    "    for test in tests:\n",
    "        N, M = test\n",
    "        G = graph()\n",
    "        start_vertex = (N, M, 0, 0, 1)\n",
    "        end_vertex = (0, 0, N, M, 2)\n",
    "\n",
    "        G = build_graph(N, M)\n",
    "\n",
    "        f.write(str(run_a_star(G, start_vertex, end_vertex)))\n",
    "        G.clear(whole=True)\n",
    "\n",
    "    f.close()\n",
    "\n",
    "\n",
    "run_tests()\n"
   ]
  },
  {
   "cell_type": "code",
   "execution_count": null,
   "metadata": {},
   "outputs": [
    {
     "ename": "",
     "evalue": "",
     "output_type": "error",
     "traceback": [
      "\u001b[1;31mRunning cells with 'c:\\Users\\mohammadreza ahmadi\\AppData\\Local\\Microsoft\\WindowsApps\\python3.11.exe' requires the ipykernel package.\n",
      "\u001b[1;31mRun the following command to install 'ipykernel' into the Python environment. \n",
      "\u001b[1;31mCommand: '\"c:/Users/mohammadreza ahmadi/AppData/Local/Microsoft/WindowsApps/python3.11.exe\" -m pip install ipykernel -U --user --force-reinstall'"
     ]
    }
   ],
   "source": [
    "from queue import PriorityQueue\n",
    "\n",
    "q = PriorityQueue()\n",
    "\n",
    "# insert into queue\n",
    "q.put((2, 'g'))\n",
    "q.put((3, 'e'))\n",
    "q.put((4, 'k'))\n",
    "q.put((5, 's'))\n",
    "q.put((1, 'e'))\n",
    "\n",
    "# remove and return\n",
    "# lowest priority item\n",
    "q.put((1, \"f\"))\n",
    "print(q.get())\n",
    "print(q.get())\n",
    "\n",
    "\n",
    "# check queue size\n",
    "print('Items in queue :', q.qsize())\n",
    "\n",
    "# check if queue is empty\n",
    "print('Is queue empty :', q.empty())\n",
    "\n",
    "# check if queue is full\n",
    "print('Is queue full :', q.full())\n"
   ]
  }
 ],
 "metadata": {
  "kernelspec": {
   "display_name": "Python 3",
   "language": "python",
   "name": "python3"
  },
  "language_info": {
   "codemirror_mode": {
    "name": "ipython",
    "version": 3
   },
   "file_extension": ".py",
   "mimetype": "text/x-python",
   "name": "python",
   "nbconvert_exporter": "python",
   "pygments_lexer": "ipython3",
   "version": "3.9.5"
  },
  "orig_nbformat": 4,
  "vscode": {
   "interpreter": {
    "hash": "f72c34bb2e2aa76acaec51e5a386e2497fab8a5e682a38cfc0469e5a4ec35b0f"
   }
  }
 },
 "nbformat": 4,
 "nbformat_minor": 2
}
